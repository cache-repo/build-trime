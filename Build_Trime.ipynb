{
  "nbformat": 4,
  "nbformat_minor": 0,
  "metadata": {
    "colab": {
      "provenance": [],
      "authorship_tag": "ABX9TyMGFMPe5L0F4YAbhUf7A6YQ",
      "include_colab_link": true
    },
    "kernelspec": {
      "name": "python3",
      "display_name": "Python 3"
    },
    "language_info": {
      "name": "python"
    }
  },
  "cells": [
    {
      "cell_type": "markdown",
      "metadata": {
        "id": "view-in-github",
        "colab_type": "text"
      },
      "source": [
        "<a href=\"https://colab.research.google.com/github/shitlime/build-trime/blob/main/Build_Trime.ipynb\" target=\"_parent\"><img src=\"https://colab.research.google.com/assets/colab-badge.svg\" alt=\"Open In Colab\"/></a>"
      ]
    },
    {
      "cell_type": "markdown",
      "source": [
        "# 环境测试"
      ],
      "metadata": {
        "id": "xvLUoygzkU31"
      }
    },
    {
      "cell_type": "code",
      "execution_count": null,
      "metadata": {
        "id": "cnI_0BQUZ6oV"
      },
      "outputs": [],
      "source": [
        "!echo \"build trime\"\n",
        "!uname -a\n",
        "!git --version\n",
        "!echo \"=================apt upgrade=====================\"\n",
        "!apt upgrade"
      ]
    },
    {
      "cell_type": "markdown",
      "source": [
        "# 编译Trime\n",
        "\n",
        "*完整编译一次Trime需要30min以上*"
      ],
      "metadata": {
        "id": "XoSMBwg0Z74C"
      }
    },
    {
      "cell_type": "markdown",
      "source": [
        "## 1. 获取源代码"
      ],
      "metadata": {
        "id": "3A4owqNWaaPj"
      }
    },
    {
      "cell_type": "code",
      "source": [
        "#@markdown # **Git Clone**\n",
        "\n",
        "#@markdown 在此处输入源代码仓库地址（一般使用github仓库）\n",
        "import os\n",
        "import urllib.request\n",
        "\n",
        "REPO_URL = \"https://github.com/osfans/trime\"  #@param {type: \"string\"}\n",
        "\n",
        "# 检查仓库地址是否有效\n",
        "try:\n",
        "  urllib.request.urlopen(REPO_URL)\n",
        "except urllib.error.URLError:\n",
        "  print(\"仓库地址无效！\")\n",
        "\n",
        "# 如果./trime存在，先删除\n",
        "if os.path.exists(\"./trime\"):\n",
        "  !rm -rf ./trime\n",
        "\n",
        "# 开始克隆\n",
        "!git clone {REPO_URL} trime --recurse-submodules\n",
        "!echo \">>>>>> 克隆完成\""
      ],
      "metadata": {
        "id": "lIt-yRcpad-j"
      },
      "execution_count": null,
      "outputs": []
    },
    {
      "cell_type": "markdown",
      "source": [
        "## 2. 安装依赖"
      ],
      "metadata": {
        "id": "lJuEhJDwd-w1"
      }
    },
    {
      "cell_type": "code",
      "source": [
        "#@markdown #1. 安装依赖\n",
        "!apt install openjdk-21-jdk\n",
        "!apt-get install android-sdk\n",
        "!apt-get install ninja-build\n",
        "!bash ./script/dependency.sh  # trime的依赖安装脚本（似乎是空的）\n",
        "!apt install -y clang-format\n",
        "\n",
        "\n",
        "#@markdown #2. 安装并配置Android命令行工具\n",
        "\n",
        "# 路径变量\n",
        "ANDROID_SDK_DIR = !whereis android-sdk\n",
        "ANDROID_SDK_DIR = ANDROID_SDK_DIR[0].split(\": \")[1]\n",
        "\n",
        "#  下载并解压\n",
        "# @markdown 输入android命令行工具的下载地址（ **如果可以使用就不用修改** ）：\n",
        "ANDROID_CMD_TOOLS_URL = \"https://dl.google.com/android/repository/commandlinetools-linux-11076708_latest.zip\"  #@param {type: \"string\"}\n",
        "!curl {ANDROID_CMD_TOOLS_URL} -o commandlinetools.zip\n",
        "!unzip commandlinetools.zip\n",
        "\n",
        "#  移动到sdk安装目录\n",
        "!mkdir -p {ANDROID_SDK_DIR}/cmdline-tools/latest\n",
        "!mv cmdline-tools/* {ANDROID_SDK_DIR}/cmdline-tools/latest\n",
        "\n",
        "#  接受协议\n",
        "!yes | {ANDROID_SDK_DIR}/cmdline-tools/latest/bin/sdkmanager --licenses"
      ],
      "metadata": {
        "id": "UWTZKqhXdJiQ"
      },
      "execution_count": null,
      "outputs": []
    },
    {
      "cell_type": "markdown",
      "source": [
        "## 3. 编译"
      ],
      "metadata": {
        "id": "L8jx0uXDjohr"
      }
    },
    {
      "cell_type": "code",
      "source": [
        "# @markdown # **重要： 编译前的一些配置**\n",
        "\n",
        "# 移动到trime根目录\n",
        "%cd trime\n",
        "\n",
        "# 添加git用户名，缺失会报错\n",
        "# @markdown git用户名（必须，否则报错）：\n",
        "GIT_USER_NAME = \"user_name\"  #@param {type: \"string\"}\n",
        "!git config --global user.name {GIT_USER_NAME}\n",
        "\n",
        "# 编写local.properties文件，指定SDK路径\n",
        "!touch local.properties\n",
        "!echo \"sdk.dir={ANDROID_SDK_DIR}\" > local.properties\n",
        "!cat local.properties"
      ],
      "metadata": {
        "id": "MRP-dzJl0xgI"
      },
      "execution_count": null,
      "outputs": []
    },
    {
      "cell_type": "markdown",
      "source": [
        "### 3.1 （可选）编译 Debug 版"
      ],
      "metadata": {
        "id": "Ux2UnFlIk8Bt"
      }
    },
    {
      "cell_type": "code",
      "source": [
        "!make debug"
      ],
      "metadata": {
        "id": "mU4vo-TXjw5m"
      },
      "execution_count": null,
      "outputs": []
    },
    {
      "cell_type": "markdown",
      "source": [
        "### 3.2 编译 Release 版"
      ],
      "metadata": {
        "id": "0obwXHvAlDMi"
      }
    },
    {
      "cell_type": "code",
      "source": [
        "# @markdown # Release版需要签名\n",
        "\n",
        "# 生成release签名密钥\n",
        "# @markdown **输入签名密钥信息：**\n",
        "FIRST_AND_LAST_NAME=\"Tiansuo Li\" #@param {type: \"string\"}\n",
        "ORGANIZATION_UNIT=\"Personal\" #@param {type: \"string\"}\n",
        "ORGANIZATION=\"Tiansuo Li\" #@param {type: \"string\"}\n",
        "LOCALITY=\"Shimokitazawa\" #@param {type: \"string\"}\n",
        "PROVINCE=\"Tokyo\" #@param {type: \"string\"}\n",
        "COUNTRY_CODE=\"JP\" #@param {type: \"string\"}\n",
        "SIGNING_KEY_ALIAS=\"google-colab-build\" #@param {type: \"string\"}\n",
        "SIGNING_STORE_PASSWORD=\"114514\" #@param {type: \"string\"}\n",
        "SIGNING_KEY_PASSWORD=\"114514\" #@param {type: \"string\"}\n",
        "\n",
        "# 生成签名密钥\n",
        "%cd app  # 在2024-01-17的trime中，密钥文件目录在 `trime/app` 下\n",
        "if not os.path.exists(\"my-release-key.keystore\"):\n",
        "  !touch tempfile\n",
        "  !echo {SIGNING_STORE_PASSWORD} >> tempfile\n",
        "  !echo {SIGNING_STORE_PASSWORD} >> tempfile\n",
        "  !echo {FIRST_AND_LAST_NAME} >> tempfile\n",
        "  !echo {ORGANIZATION_UNIT} >> tempfile\n",
        "  !echo {ORGANIZATION} >> tempfile\n",
        "  !echo {LOCALITY} >> tempfile\n",
        "  !echo {PROVINCE} >> tempfile\n",
        "  !echo {COUNTRY_CODE} >> tempfile\n",
        "  !echo \"y\" >> tempfile\n",
        "  !cat tempfile | keytool -genkey -v -keystore my-release-key.keystore -alias {SIGNING_KEY_ALIAS} -keyalg RSA -keysize 2048 -validity 10000\n",
        "  !rm -f tempfile\n",
        "%cd ..\n",
        "\n",
        "\n",
        "# 把密钥信息写入配置文件\n",
        "if os.path.exists(\"keystore.properties\"):\n",
        "  !rm -f keystore.properties\n",
        "!touch keystore.properties\n",
        "!echo \"storeFile=my-release-key.keystore\" >> keystore.properties\n",
        "!echo \"keyAlias={SIGNING_KEY_ALIAS}\" >> keystore.properties\n",
        "!echo \"storePassword={SIGNING_STORE_PASSWORD}\" >> keystore.properties\n",
        "!echo \"keyPassword={SIGNING_KEY_PASSWORD}\" >> keystore.properties\n",
        "\n",
        "# 开始编译\n",
        "!make release"
      ],
      "metadata": {
        "id": "UbvZ8wdnlIlC"
      },
      "execution_count": null,
      "outputs": []
    },
    {
      "cell_type": "markdown",
      "source": [
        "### 3.3 （可选）清理编译\n",
        "\n",
        "+ 需要获取结果时不推荐清理\n",
        "+ 清理的主要用途是编译失败 或 编译debug和release版时避免影响"
      ],
      "metadata": {
        "id": "zU8OuVyPyExA"
      }
    },
    {
      "cell_type": "code",
      "source": [
        "!make clean"
      ],
      "metadata": {
        "id": "HSaF-ZyCyOwv"
      },
      "execution_count": null,
      "outputs": []
    },
    {
      "cell_type": "markdown",
      "source": [
        "## 4. 获取结果\n",
        "\n",
        "运行打包结果的代码（下方的格子）后\n",
        "\n",
        "*如果不需要打包完整项目，可以使用 `#` 注释打包完整项目的代码，节省较多的时间*\n",
        "\n",
        "\n",
        "### 4.1 需要获取编译后的完整项目用于开发（完整的trime项目文件夹）\n",
        "\n",
        "到左侧 `文件` -> `trime.tgz` -> `鼠标右键` -> `下载`\n",
        "\n",
        "\n",
        "### 4.2 需要获取编译后的APK文件（安卓安装包文件）\n",
        "\n",
        "到左侧 `文件` -> `Trime-APK.tgz` -> `鼠标右键` -> `下载`\n",
        "\n",
        "\n",
        "### 4.3 需要获取编译后的prebuilt文件用于开发（开发时使用的jni部分预编译文件）\n",
        "\n",
        "到左侧 `文件` -> `prebuilt.tar` -> `鼠标右键` -> `下载`"
      ],
      "metadata": {
        "id": "cqJZ7mOYN9sH"
      }
    },
    {
      "cell_type": "code",
      "source": [
        "# @markdown 打包结果\n",
        "%cd ..\n",
        "# 打包完整项目（注释掉可以提速）\n",
        "!tar -zcvf trime.tar\n",
        "\n",
        "# 打包APK安装包\n",
        "!tar -zcvf Trime-APK.tar trime/app/build/outputs/apk\n",
        "\n",
        "# 打包prebuilt相关文件（之后需要自行处理）\n",
        "!tar -zcvf prebuilt.tar trime/app/build/intermediates/stripped_native_libs"
      ],
      "metadata": {
        "id": "_ldCOUWFPB8I"
      },
      "execution_count": null,
      "outputs": []
    }
  ]
}