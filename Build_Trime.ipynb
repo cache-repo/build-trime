{
  "cells": [
    {
      "cell_type": "markdown",
      "metadata": {
        "id": "xvLUoygzkU31"
      },
      "source": [
        "# 准备环境"
      ]
    },
    {
      "cell_type": "code",
      "execution_count": null,
      "metadata": {
        "id": "yDgCFViq8ZfN"
      },
      "outputs": [],
      "source": [
        "#@title 挂载谷歌硬盘(可选)\n",
        "from google.colab import drive\n",
        "drive.mount('/content/drive')"
      ]
    },
    {
      "cell_type": "code",
      "execution_count": null,
      "metadata": {
        "id": "cnI_0BQUZ6oV"
      },
      "outputs": [],
      "source": [
        "!echo \"build trime\"\n",
        "!uname -a\n",
        "!git --version\n",
        "!echo \"=================apt upgrade=====================\"\n",
        "!apt-get update"
      ]
    },
    {
      "cell_type": "code",
      "execution_count": null,
      "metadata": {
        "cellView": "form",
        "id": "UWTZKqhXdJiQ"
      },
      "outputs": [],
      "source": [
        "#@markdown #1. 安装依赖\n",
        "#@markdown 安装指定版本的Java：\n",
        "JAVA_VERSION = \"17\" # @param [\"21\", \"17\", \"11\"]\n",
        "!apt install openjdk-{JAVA_VERSION}-jdk\n",
        "!apt-get install android-sdk\n",
        "!apt-get install ninja-build\n",
        "!apt-get install libtool\n",
        "!apt install -y clang-format\n",
        "\n",
        "#@markdown #2. 安装并配置Android命令行工具\n",
        "\n",
        "# 路径变量\n",
        "ANDROID_SDK_DIR = !whereis android-sdk\n",
        "ANDROID_SDK_DIR = ANDROID_SDK_DIR[0].split(\": \")[1]\n",
        "\n",
        "#  下载并解压\n",
        "# @markdown 输入android命令行工具的下载地址（ **如果可以使用就不用修改** ）：\n",
        "\n",
        "ANDROID_CMD_TOOLS_URL = \"https://dl.google.com/android/repository/commandlinetools-linux-11076708_latest.zip\"  #@param {type: \"string\"}\n",
        "!curl {ANDROID_CMD_TOOLS_URL} -o commandlinetools.zip\n",
        "!unzip commandlinetools.zip\n",
        "\n",
        "#  移动到sdk安装目录\n",
        "!mkdir -p {ANDROID_SDK_DIR}/cmdline-tools/latest\n",
        "!mv cmdline-tools/* {ANDROID_SDK_DIR}/cmdline-tools/latest\n",
        "\n",
        "#  接受协议\n",
        "!yes | {ANDROID_SDK_DIR}/cmdline-tools/latest/bin/sdkmanager --licenses\n",
        "\n",
        "\n",
        "!echo \">>>>>> 编译环境安装完成\""
      ]
    },
    {
      "cell_type": "markdown",
      "metadata": {
        "id": "XoSMBwg0Z74C"
      },
      "source": [
        "# 编译Trime\n",
        "\n",
        "*完整编译一次Trime需要30min以上*"
      ]
    },
    {
      "cell_type": "markdown",
      "metadata": {
        "id": "3A4owqNWaaPj"
      },
      "source": [
        "## 1 获取源代码"
      ]
    },
    {
      "cell_type": "code",
      "execution_count": null,
      "metadata": {
        "cellView": "form",
        "id": "lIt-yRcpad-j"
      },
      "outputs": [],
      "source": [
        "%cd /content\n",
        "#@title Git Clone\n",
        "\n",
        "import os\n",
        "import urllib.request\n",
        "\n",
        "#@markdown 在此处输入源代码仓库地址（一般使用github仓库）：\n",
        "REPO_URL = \"https://github.com/osfans/trime\"  #@param {type: \"string\"}\n",
        "#@markdown 选择版本/分支（无内容为当前最新）：\n",
        "GIT_TAG = \"v3.2.9\" # @param [\"\", \"v3.2.7\", \"v3.2.8\", \"v3.2.9\", \"v3.2.16\", \"v3.2.17\"] {allow-input: true}\n",
        "\n",
        "# 检查仓库地址是否有效\n",
        "try:\n",
        "  urllib.request.urlopen(REPO_URL)\n",
        "except urllib.error.URLError:\n",
        "  print(\">>>>>> 仓库地址无效！\")\n",
        "\n",
        "# 如果./trime存在，先删除\n",
        "if os.path.exists(\"./trime\"):\n",
        "  !rm -rf ./trime\n",
        "\n",
        "# 开始克隆\n",
        "!git clone {REPO_URL} trime\n",
        "\n",
        "%cd trime\n",
        "if GIT_TAG:\n",
        "  !git checkout {GIT_TAG}\n",
        "print(\"init submodule\")\n",
        "!git submodule update --init --recursive\n",
        "\n",
        "!echo \">>>>>> 克隆完成\"\n",
        "\n",
        "print(\"Trime 版本信息\")\n",
        "!git describe --tags --long --always\n",
        "\n",
        "print(\"Submodules 版本信息\")\n",
        "submodules = []\n",
        "\n",
        "with open('.gitmodules', 'r') as file:\n",
        "    for line in file:\n",
        "        if line.strip().startswith('path ='):\n",
        "            submodule_path = line.strip().split('=')[1].strip()\n",
        "            submodules.append(submodule_path)\n",
        "\n",
        "print(\"contains submodules:\", submodules)\n",
        "\n",
        "import subprocess\n",
        "import os\n",
        "\n",
        "# 获取当前仓库的根目录\n",
        "root_dir = subprocess.check_output(['git', 'rev-parse', '--show-toplevel'], text=True).strip()\n",
        "\n",
        "for submodule in submodules:\n",
        "\n",
        "    submodule_path = os.path.join(root_dir, submodule)\n",
        "    print(f\"\\n{submodule.split('/')[-1]}\")\n",
        "\n",
        "  # 获取提交的 tags 并按提交时间排序\n",
        "    result = subprocess.run(['git', 'for-each-ref', '--sort=-committerdate', '--format=%(refname:short)', 'refs/tags'], capture_output=True, text=True, cwd=submodule_path)\n",
        "\n",
        "    # 将输出按行分割并保存为列表\n",
        "    tags = result.stdout.splitlines()\n",
        "\n",
        "    # 打印 tags 列表\n",
        "    print(tags)\n",
        "    if len(tags)>1:\n",
        "      filtered_tags = [tag for tag in tags if 'beta' not in tag and 'alpha' not in tag and '.' in tag]\n",
        "      if len(tags)>len(filtered_tags):\n",
        "        print(\"filted tags:\\n\", filtered_tags)\n",
        "\n",
        "\n",
        "%cd /content"
      ]
    },
    {
      "cell_type": "code",
      "source": [
        "#@title 更新submodule为指定版本(可选)\n",
        "#@markdown **版本号为空的submodule不更新**\n",
        "%cd /content/trime\n",
        "#@markdown librime librime-charcode librime-lua librime-octagram\n",
        "UPDATE_LIBRIME =\"1.11.2\" # @param [\"\", '1.11.2', '1.11.1', '1.11.0', '1.10.0'] {allow-input: true}\n",
        "if UPDATE_LIBRIME:\n",
        "  !cd app/src/main/jni/librime;git checkout {UPDATE_LIBRIME}\n",
        "\n",
        "\n",
        "UPDATE_LIBRIME_CHARCODE = True # @param {type:\"boolean\"}\n",
        "if UPDATE_LIBRIME_CHARCODE:\n",
        "  !git submodule update --init --remote  app/src/main/jni/librime-charcode\n",
        "\n",
        "\n",
        "UPDATE_LIBRIME_LUA = True # @param {type:\"boolean\"}\n",
        "if UPDATE_LIBRIME_LUA:\n",
        "  !git submodule update --init --remote  app/src/main/jni/librime-lua\n",
        "  !git submodule update --init --remote  app/src/main/jni/librime-lua-deps\n",
        "\n",
        "\n",
        "UPDATE_LIBRIME_OCTAGRAM = True # @param {type:\"boolean\"}\n",
        "if UPDATE_LIBRIME_OCTAGRAM:\n",
        "  !git submodule update --init --remote  app/src/main/jni/librime-octagram\n",
        "\n",
        "#@markdown libiconv\n",
        "\n",
        "UPDATE_LIBICONV = \"\" # @param [\"\", 'v1.15', 'v1.13.1', 'v1.13', 'v1.12', 'v1.11.1'] {allow-input: true}\n",
        "if UPDATE_LIBICONV:\n",
        "  !cd app/src/main/jni/libiconv;git checkout {UPDATE_LIBICONV}\n",
        "\n",
        "\n",
        "#@markdown OpenCC\n",
        "UPDATE_LIBOPENCC = \"ver.1.1.7\" # @param [\"\", 'ver.1.1.7', 'ver.1.1.6', 'ver.1.1.5', 'ver.1.1.4', 'ver.1.1.3', 'ver.1.1.1', 'ver.1.1.0', 'ver.1.0.6'] {allow-input: true}\n",
        "if UPDATE_LIBOPENCC:\n",
        "  !cd app/src/main/jni/OpenCC;git checkout {UPDATE_LIBOPENCC}\n",
        "\n",
        "#@markdown boost\n",
        "UPDATE_LIBBOOST = \"\" # @param [\"\", 'boost-1.85.0', 'boost-1.84.0', 'boost-1.83.0', 'boost-1.82.0', 'boost-1.81.0', 'boost-1.80.0', 'boost-1.79.0', 'boost-1.78.0'] {allow-input: true}\n",
        "if UPDATE_LIBBOOST:\n",
        "  !cd app/src/main/jni/boost;git checkout {UPDATE_LIBBOOST}\n",
        "\n",
        "\n",
        "\n",
        "#@markdown snappy\n",
        "UPDATE_LIBSNAPPY = \"\" # @param [\"\", '1.2.0', '1.1.10', '1.1.9', '1.1.8', '1.1.7', '1.1.6', '1.1.5', '1.1.4', '1.1.3'] {allow-input: true}\n",
        "if UPDATE_LIBSNAPPY:\n",
        "  !cd app/src/main/jni/snappy;git checkout {UPDATE_LIBSNAPPY}\n",
        "\n",
        "\n",
        "#@markdown capnproto\n",
        "UPDATE_LIBCAPN = \"\" # @param [\"\", 'v1.0.2', 'v1.0.1.1', 'v1.0.1', 'v1.0.0', 'v0.10.4'] {allow-input: true}\n",
        "if UPDATE_LIBCAPN:\n",
        "  !cd app/src/main/jni/capnproto;git checkout {UPDATE_LIBCAPN}\n",
        "\n"
      ],
      "metadata": {
        "cellView": "form",
        "id": "6HwfjC9Dw4-t"
      },
      "execution_count": null,
      "outputs": []
    },
    {
      "cell_type": "code",
      "execution_count": null,
      "metadata": {
        "cellView": "form",
        "id": "0REwFG_8vJug"
      },
      "outputs": [],
      "source": [
        "#@title 更新submodule到上游最新版本(可选)\n",
        "#@markdown **⚠️更新到不合适的版本可能造成编译失败，因此不建议运行此项**\n",
        "%cd /content/trime\n",
        "#@markdown librime librime-charcode librime-lua librime-octagram\n",
        "UPDATE_LIBRIME = True # @param {type:\"boolean\"}\n",
        "if UPDATE_LIBRIME:\n",
        "  !git submodule update --init --remote  app/src/main/jni/librime\n",
        "  !git submodule update --init --remote  app/src/main/jni/librime-charcode\n",
        "  !git submodule update --init --remote  app/src/main/jni/librime-lua\n",
        "  !git submodule update --init --remote  app/src/main/jni/librime-octagram\n",
        "# else:\n",
        "#   !git submodule update --init app/src/main/jni/librime\n",
        "#   !git submodule update --init app/src/main/jni/librime-charcode\n",
        "#   !git submodule update --init app/src/main/jni/librime-lua\n",
        "#   !git submodule update --init app/src/main/jni/librime-octagram\n",
        "\n",
        "#@markdown libiconv\n",
        "\n",
        "UPDATE_LIBICONV = False # @param {type:\"boolean\"}\n",
        "if UPDATE_LIBICONV:\n",
        "  !git submodule update --init --remote  app/src/main/jni/libiconv\n",
        "# else:\n",
        "#   !git submodule update --init app/src/main/jni/libiconv\n",
        "\n",
        "#@markdown OpenCC\n",
        "UPDATE_LIBOPENCC = True # @param {type:\"boolean\"}\n",
        "if UPDATE_LIBOPENCC:\n",
        "  !git submodule update --init --remote  app/src/main/jni/OpenCC\n",
        "# else:\n",
        "#   !git submodule update --init app/src/main/jni/OpenCC\n",
        "\n",
        "\n",
        "\n",
        "#@markdown boost\n",
        "UPDATE_LIBBOOST = False # @param {type:\"boolean\"}\n",
        "if UPDATE_LIBBOOST:\n",
        "  !git submodule update --init --remote  app/src/main/jni/boost\n",
        "# else:\n",
        "#   !git submodule update --init app/src/main/jni/boost\n",
        "\n",
        "\n",
        "#@markdown snappy\n",
        "UPDATE_LIBSNAPPY = False # @param {type:\"boolean\"}\n",
        "if UPDATE_LIBSNAPPY:\n",
        "  !git submodule update --init --remote  app/src/main/jni/snappy\n",
        "# else:\n",
        "#   !git submodule update --init app/src/main/jni/snappy\n",
        "\n",
        "\n",
        "\n",
        "#@markdown capnproto\n",
        "UPDATE_LIBCAPN = False # @param {type:\"boolean\"}\n",
        "if UPDATE_LIBCAPN:\n",
        "  !git submodule update --init --remote  app/src/main/jni/capnproto\n",
        "# else:\n",
        "#   !git submodule update --init app/src/main/jni/capnproto\n",
        "\n",
        "\n"
      ]
    },
    {
      "cell_type": "markdown",
      "metadata": {
        "id": "Fx3cQ9V81X5O"
      },
      "source": [
        "## 2 修改源代码"
      ]
    },
    {
      "cell_type": "code",
      "execution_count": null,
      "metadata": {
        "id": "cCcI8uCnlCjw"
      },
      "outputs": [],
      "source": [
        "#@title 复制谷歌硬盘的jni代码到项目目录（可选）\n",
        "!cp /content/drive/MyDrive/Trime/librime_jni/*  /content/trime/app/src/main/jni/librime_jni"
      ]
    },
    {
      "cell_type": "code",
      "execution_count": null,
      "metadata": {
        "cellView": "form",
        "id": "Gnkq-VpPwsca"
      },
      "outputs": [],
      "source": [
        "#@title 修改Makefile （高版本有效）\n",
        "# @markdown ### 跳过语法检查\n",
        "# @markdown 修改文件 /content/trime/Makefile ,去除 clang-format-lint clang-format\n",
        "\n",
        "MODIFY_MAKEFILE = True # @param {type:\"boolean\"}\n",
        "if MODIFY_MAKEFILE:\n",
        "  !sed -i 's/style-lint//g' /content/trime/Makefile"
      ]
    },
    {
      "cell_type": "code",
      "source": [
        "#@title 修改build.gradle （低版本有效）\n",
        "\n",
        "# @markdown 修改文件 /content/trime/app/build.gradle ,减少部分abi类型从而缩短编译时间\n",
        "\n",
        "BUILD_ARMV7 = False # @param {type:\"boolean\"}\n",
        "BUILD_ARMV8 = True # @param {type:\"boolean\"}\n",
        "BUILD_X86 = True # @param {type:\"boolean\"}\n",
        "BUILD_X64 = False # @param {type:\"boolean\"}\n",
        "\n",
        "abi_names = [ ]\n",
        "if BUILD_ARMV7:\n",
        "  abi_names.append(\"armeabi-v7a\")\n",
        "if BUILD_X64:\n",
        "  abi_names.append(\"x86_64\")\n",
        "if BUILD_X86:\n",
        "  abi_names.append(\"x86\")\n",
        "if BUILD_ARMV8:\n",
        "  abi_names.append(\"arm64-v8a\")\n",
        "\n",
        "if len(abi_names)>0:\n",
        "  build_abi = 'include ' + \", \".join([f'\"{item}\"' for item in abi_names])\n",
        "  print(\"modify to:\",build_abi)\n",
        "  # 修改/content/trime/app/build.gradle中包含`\"x86_64\"`的一行的内容为变量build_abi的值\n",
        "  !sed -i 's/.*\"x86_64\".*/{build_abi}/g' /content/trime/app/build.gradle"
      ],
      "metadata": {
        "cellView": "form",
        "id": "zOcbMe6Pj-Mq"
      },
      "execution_count": null,
      "outputs": []
    },
    {
      "cell_type": "code",
      "execution_count": null,
      "metadata": {
        "cellView": "form",
        "id": "DutKUorJNFKC"
      },
      "outputs": [],
      "source": [
        "# @title 运行依赖配置脚本（for低版本Trime）\n",
        "# @markdown **较新的版本（如v3.2.16、v3.2.17）**没有这个脚本，可以**跳过**这一步\n",
        "%cd /content/trime\n",
        "# trime的依赖配置脚本（可能是空的）\n",
        "!bash ./script/dependency.sh\n",
        "%cd .."
      ]
    },
    {
      "cell_type": "code",
      "execution_count": null,
      "metadata": {
        "cellView": "form",
        "id": "MRP-dzJl0xgI"
      },
      "outputs": [],
      "source": [
        "# @title 编译前配置\n",
        "# @markdown **⚠️重要： 编译前的一些配置**\n",
        "\n",
        "# 移动到trime根目录\n",
        "%cd /content/trime\n",
        "\n",
        "# @markdown ----\n",
        "# @markdown (可选) 勾选下方选项以添加git用户名， *旧版TRIME编译中缺失可能会报错*\n",
        "SET_GIT_USERNAME = True # @param {type:\"boolean\"}\n",
        "if SET_GIT_USERNAME:\n",
        "  GIT_USERNAME = \"user_name\"  #@param {type: \"string\"}\n",
        "  !git config --global user.name {GIT_USERNAME}\n",
        "\n",
        "# @markdown ----\n",
        "# 编写local.properties文件，指定SDK路径\n",
        "!touch local.properties\n",
        "!echo \"sdk.dir={ANDROID_SDK_DIR}\" > local.properties\n",
        "!cat local.properties\n",
        "!echo \">>>>>> 配置完成\""
      ]
    },
    {
      "cell_type": "markdown",
      "metadata": {
        "id": "L8jx0uXDjohr"
      },
      "source": [
        "## 3 编译"
      ]
    },
    {
      "cell_type": "code",
      "execution_count": null,
      "metadata": {
        "cellView": "form",
        "id": "HSaF-ZyCyOwv"
      },
      "outputs": [],
      "source": [
        "# @title 3.1（可选）清理编译\n",
        "# @markdown 编译失败 或 编译debug和release版时避免影响\n",
        "\n",
        "!make clean\n",
        "!echo \">>>>>> 清理完成，如果仍有残留请手动到左边文件管理中删除编译产物\""
      ]
    },
    {
      "cell_type": "markdown",
      "metadata": {
        "id": "Ux2UnFlIk8Bt"
      },
      "source": [
        "### 3.2 （可选）编译 Debug 版"
      ]
    },
    {
      "cell_type": "code",
      "execution_count": null,
      "metadata": {
        "id": "mU4vo-TXjw5m"
      },
      "outputs": [],
      "source": [
        "!make debug\n",
        "!echo \">>>>>> 编译 (debug) 完成\""
      ]
    },
    {
      "cell_type": "markdown",
      "metadata": {
        "id": "0obwXHvAlDMi"
      },
      "source": [
        "### 3.3 编译 Release 版"
      ]
    },
    {
      "cell_type": "code",
      "execution_count": null,
      "metadata": {
        "cellView": "form",
        "id": "UbvZ8wdnlIlC"
      },
      "outputs": [],
      "source": [
        "# @markdown # Release版需要签名\n",
        "\n",
        "# 生成release签名密钥\n",
        "# @markdown **输入签名密钥信息：**\n",
        "FIRST_AND_LAST_NAME=\"Tiansuo Li\" #@param {type: \"string\"}\n",
        "ORGANIZATION_UNIT=\"Personal\" #@param {type: \"string\"}\n",
        "ORGANIZATION=\"Tiansuo Li\" #@param {type: \"string\"}\n",
        "LOCALITY=\"Shimokitazawa\" #@param {type: \"string\"}\n",
        "PROVINCE=\"Tokyo\" #@param {type: \"string\"}\n",
        "COUNTRY_CODE=\"JP\" #@param {type: \"string\"}\n",
        "SIGNING_KEY_ALIAS=\"google-colab-build\" #@param {type: \"string\"}\n",
        "SIGNING_STORE_PASSWORD=\"114514\" #@param {type: \"string\"}\n",
        "SIGNING_KEY_PASSWORD=\"114514\" #@param {type: \"string\"}\n",
        "\n",
        "# 生成签名密钥\n",
        "%cd app\n",
        "if not os.path.exists(\"my-release-key.keystore\"):\n",
        "  !touch tempfile\n",
        "  !echo {SIGNING_STORE_PASSWORD} >> tempfile\n",
        "  !echo {SIGNING_STORE_PASSWORD} >> tempfile\n",
        "  !echo {FIRST_AND_LAST_NAME} >> tempfile\n",
        "  !echo {ORGANIZATION_UNIT} >> tempfile\n",
        "  !echo {ORGANIZATION} >> tempfile\n",
        "  !echo {LOCALITY} >> tempfile\n",
        "  !echo {PROVINCE} >> tempfile\n",
        "  !echo {COUNTRY_CODE} >> tempfile\n",
        "  !echo \"y\" >> tempfile\n",
        "  !cat tempfile | keytool -genkey -v -keystore my-release-key.keystore -alias {SIGNING_KEY_ALIAS} -keyalg RSA -keysize 2048 -validity 10000\n",
        "  !rm -f tempfile\n",
        "%cd ..\n",
        "\n",
        "#@markdown **兼容旧版** （复制一份 `my-release-key.keystore` 到trime文件夹）\n",
        "兼容旧版 = True #@param {type: \"boolean\"}\n",
        "if 兼容旧版:\n",
        "  !cp app/my-release-key.keystore my-release-key.keystore\n",
        "\n",
        "# 把密钥信息写入配置文件\n",
        "if os.path.exists(\"keystore.properties\"):\n",
        "  !rm -f keystore.properties\n",
        "!touch keystore.properties\n",
        "!echo \"storeFile=my-release-key.keystore\" >> keystore.properties\n",
        "!echo \"keyAlias={SIGNING_KEY_ALIAS}\" >> keystore.properties\n",
        "!echo \"storePassword={SIGNING_STORE_PASSWORD}\" >> keystore.properties\n",
        "!echo \"keyPassword={SIGNING_KEY_PASSWORD}\" >> keystore.properties\n",
        "\n",
        "# 开始编译\n",
        "!make release\n",
        "!echo \">>>>>> 编译 (release) 完成\""
      ]
    },
    {
      "cell_type": "markdown",
      "metadata": {
        "id": "cqJZ7mOYN9sH"
      },
      "source": [
        "## 4 获取结果\n",
        "\n",
        "运行打包结果的代码（下方的格子）后\n",
        "\n",
        "*如果不需要打包所有项目，可以去掉勾选，节省时间*\n",
        "\n",
        "\n",
        "### 4.1 需要获取编译后的完整项目用于开发（完整的trime项目文件夹）\n",
        "\n",
        "到左侧 `文件` -> `trime.tar` -> `鼠标右键` -> `下载`\n",
        "\n",
        "\n",
        "### 4.2 需要获取编译后的APK文件（安卓安装包文件）\n",
        "\n",
        "到左侧 `文件` -> `Trime-APK.tar` -> `鼠标右键` -> `下载`\n",
        "\n",
        "\n",
        "### 4.3 需要获取编译后的prebuilt文件用于开发（开发时使用的jni部分预编译文件）\n",
        "\n",
        "到左侧 `文件` -> `prebuilt.tar` -> `鼠标右键` -> `下载`"
      ]
    },
    {
      "cell_type": "code",
      "execution_count": null,
      "metadata": {
        "cellView": "form",
        "id": "_ldCOUWFPB8I"
      },
      "outputs": [],
      "source": [
        "# @markdown ##打包结果\n",
        "%cd ..\n",
        "\n",
        "# @markdown ----\n",
        "# @markdown **勾选打包完整项目**\n",
        "PACK_ALL = False #@param {type: \"boolean\"}\n",
        "if PACK_ALL:\n",
        "  !tar -zcvf trime.tar trime\n",
        "  !echo \">>>>>> 完整项目打包完成\"\n",
        "\n",
        "# @markdown ----\n",
        "# @markdown **勾选打包APK安装包**\n",
        "PACK_APK = True #@param {type: \"boolean\"}\n",
        "if PACK_APK:\n",
        "  !tar -zcvf Trime-APK.tar trime/app/build/outputs/apk\n",
        "  !echo \">>>>>> apk打包完成\"\n",
        "\n",
        "# @markdown ----\n",
        "# @markdown **勾选打包prebuilt相关文件**\n",
        "PACK_PREBUILT = True #@param {type: \"boolean\"}\n",
        "if PACK_PREBUILT:\n",
        "  !tar -zcvf prebuilt.tar trime/app/build/intermediates/stripped_native_libs\n",
        "  !echo \">>>>>> prebuilt打包完成\"\n",
        "\n",
        "%cd trime"
      ]
    },
    {
      "cell_type": "markdown",
      "metadata": {
        "id": "z9-qCGEa2V0z"
      },
      "source": [
        "## 5 获取JNI编译结果Ⅱ"
      ]
    },
    {
      "cell_type": "code",
      "execution_count": null,
      "metadata": {
        "cellView": "form",
        "id": "Dtn9zvhZqxqB"
      },
      "outputs": [],
      "source": [
        "#@title 列出jni编译结果\n",
        "!find app -name librime_jni.so  -exec ls -lh {} \\;"
      ]
    },
    {
      "cell_type": "code",
      "execution_count": null,
      "metadata": {
        "id": "vcQaGh6Sq58q",
        "cellView": "form"
      },
      "outputs": [],
      "source": [
        "#@title 复制arm64/x86 jni编译结果到谷歌硬盘\n",
        "target_path = \"/content/drive/MyDrive/Trime/libs/\" # @param {type:\"string\"}\n",
        "source_path = \"app/build/intermediates/stripped_native_libs/release/out/lib/\" # @param {type:\"string\"}\n",
        "import os\n",
        "def copy_build_result(source_path, destination_dir, file_name):\n",
        "  # Check if the file exists\n",
        "  if os.path.exists(source_path):\n",
        "    # Create the destination directory if it doesn't exist\n",
        "    os.makedirs(destination_dir, exist_ok=True)\n",
        "\n",
        "    # Copy the file\n",
        "    os.system(f'cp \"{source_path}/{file_name}\" \"{destination_dir}\"')\n",
        "    print(f'Copy from {source_path}/{file_name}')\n",
        "  else:\n",
        "    print(f'File not found at {source_path}')\n",
        "\n",
        "if \"abi_names\" in globals():\n",
        "  for abi in abi_names:\n",
        "    copy_build_result(source_path+abi,target_path+abi, \"librime_jni.so\")\n",
        "else:\n",
        "  for abi in [\"x86\", \"arm64-v8a\", \"x86_64\", \"armeabi-v7a\" ]:\n",
        "    copy_build_result(source_path+abi,target_path+abi, \"librime_jni.so\")\n",
        "print(\"finish.\")"
      ]
    }
  ],
  "metadata": {
    "colab": {
      "provenance": []
    },
    "kernelspec": {
      "display_name": "Python 3",
      "name": "python3"
    },
    "language_info": {
      "name": "python"
    }
  },
  "nbformat": 4,
  "nbformat_minor": 0
}